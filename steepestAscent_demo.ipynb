{
 "cells": [
  {
   "cell_type": "code",
   "execution_count": 22,
   "metadata": {},
   "outputs": [],
   "source": [
    "from random import *\n",
    "\n",
    "def randomSolution(tsp):\n",
    "   cities =list(range(len(tsp))) # get a list of cities in the problem space\n",
    "   solution =[]\n",
    "   \n",
    "   for i in range(len(tsp)):\n",
    "        randCity = cities[randint(0,len(cities)-1)] # generate a random city from problem space\n",
    "        solution.append(randCity) # append it to the solutions list\n",
    "        cities.remove(randCity) # remove the appended city so it is not used on next iteration\n",
    "   return solution"
   ]
  },
  {
   "cell_type": "code",
   "execution_count": 23,
   "metadata": {},
   "outputs": [],
   "source": [
    "def routeLength(tsp, solution):\n",
    "    routeLength =0\n",
    "    for i in range(len(solution)):\n",
    "        routeLength += tsp[solution[i-1]][solution[i]] # i-1 ensures that the sales man returns to the starting city/node\n",
    "    return routeLength"
   ]
  },
  {
   "cell_type": "code",
   "execution_count": 24,
   "metadata": {},
   "outputs": [],
   "source": [
    "#define getNeighbours function\n",
    "def getNeighbours(solution):\n",
    "    #create a list of all the neighbours\n",
    "    neighbours = []\n",
    "    for i in range(len(solution)):          # this loop navigates to  all cities in the solution\n",
    "        for j in range(i+1, len(solution)):\n",
    "            #create a copy of the solution\n",
    "            neighbour = solution.copy()\n",
    "            #swapping solutions\n",
    "            neighbour[i] = solution[j]\n",
    "            #for a perfect swap make the jth position of the neighbour equal to solution of ith element\n",
    "            neighbour[j] = solution[i]\n",
    "            #append the neighbour  to the neighbours list\n",
    "            neighbours.append(neighbour)\n",
    "            #return the list of all the neighbours\n",
    "    return neighbours"
   ]
  },
  {
   "cell_type": "code",
   "execution_count": 25,
   "metadata": {},
   "outputs": [],
   "source": [
    "def getBestNeighbour(tsp, neighbours):\n",
    "    #get zeroth neigbour as the baseline\n",
    "    bestRouteLength = routeLength(tsp, neighbours[0])\n",
    "    bestNeighbour = neighbours[0]\n",
    "    for neighbour in neighbours:\n",
    "        currentRouteLength = routeLength(tsp, neighbour)\n",
    "        if currentRouteLength < bestRouteLength:\n",
    "            bestRouteLength = currentRouteLength\n",
    "            bestNeighbour = neighbour\n",
    "    return bestNeighbour, bestRouteLength"
   ]
  },
  {
   "cell_type": "code",
   "execution_count": 26,
   "metadata": {},
   "outputs": [],
   "source": [
    "\n",
    "def hillClimbing(tsp):\n",
    "    #generates current solution's random cities\n",
    "    currentSolution = randomSolution(tsp)\n",
    "    print(currentSolution)\n",
    "    #create the route length of the random cities\n",
    "    currentRouteLength = routeLength(tsp,currentSolution)\n",
    "    print(currentRouteLength)\n",
    "    #get neighbours of the current solution\n",
    "    neighbours = getNeighbours(currentSolution)\n",
    "    print(neighbours)\n",
    "    \n",
    "    bestNeighbour, getBestNeighbourRouteLength = getBestNeighbour(tsp, neighbours)\n",
    "    #find the neighbout with the best route length\n",
    "    while getBestNeighbourRouteLength < currentRouteLength:\n",
    "        currentSolution = bestNeighbour #assign current root \n",
    "        currentSolution = bestNeighbour\n",
    "        currentRouteLength = getBestNeighbourRouteLength\n",
    "        bestNeighbour, getBestNeighbourRouteLength = getBestNeighbour(tsp, neighbours)\n",
    "    return currentSolution, currentRouteLength"
   ]
  },
  {
   "cell_type": "code",
   "execution_count": 27,
   "metadata": {},
   "outputs": [
    {
     "name": "stdout",
     "output_type": "stream",
     "text": [
      "[2, 0, 3, 1]\n",
      "1600\n",
      "[[0, 2, 3, 1], [3, 0, 2, 1], [1, 0, 3, 2], [2, 3, 0, 1], [2, 1, 3, 0], [2, 0, 1, 3]]\n",
      "([1, 0, 3, 2], 1400)\n"
     ]
    }
   ],
   "source": [
    "#represent the problem space in an array\n",
    "def main():\n",
    "    tsp = [\n",
    "        [0,400,500,300],\n",
    "        [400,0,300,500],\n",
    "        [500,300,0,400],\n",
    "        [300,500,400,0]\n",
    "        ]\n",
    "    #print solution by passing the problem to the hillClimbing() function\n",
    "    print(hillClimbing(tsp))\n",
    "    \n",
    "if __name__ == \"__main__\":\n",
    "    main()\n"
   ]
  },
  {
   "cell_type": "code",
   "execution_count": null,
   "metadata": {},
   "outputs": [],
   "source": []
  },
  {
   "cell_type": "code",
   "execution_count": null,
   "metadata": {},
   "outputs": [],
   "source": []
  }
 ],
 "metadata": {
  "kernelspec": {
   "display_name": "Python 3",
   "language": "python",
   "name": "python3"
  },
  "language_info": {
   "codemirror_mode": {
    "name": "ipython",
    "version": 3
   },
   "file_extension": ".py",
   "mimetype": "text/x-python",
   "name": "python",
   "nbconvert_exporter": "python",
   "pygments_lexer": "ipython3",
   "version": "3.11.1"
  },
  "orig_nbformat": 4
 },
 "nbformat": 4,
 "nbformat_minor": 2
}
