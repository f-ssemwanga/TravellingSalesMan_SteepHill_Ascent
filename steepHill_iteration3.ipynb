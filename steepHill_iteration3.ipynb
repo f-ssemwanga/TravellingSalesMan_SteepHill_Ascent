{
 "cells": [
  {
   "cell_type": "code",
   "execution_count": 52,
   "metadata": {},
   "outputs": [],
   "source": [
    "def load_data(file_name):\n",
    "    with open(file_name, 'r') as file:\n",
    "        lines = file.readlines()\n",
    "        matrix = [[int(value) for value in line.strip().split(',')] for line in lines]\n",
    "    return matrix"
   ]
  },
  {
   "cell_type": "code",
   "execution_count": 54,
   "metadata": {},
   "outputs": [
    {
     "name": "stdout",
     "output_type": "stream",
     "text": [
      "[31, 12, 30, 0, 16, 43, 36, 27, 28, 33, 48, 34, 26, 39, 29, 35, 2, 11, 24, 3, 7, 38, 5, 9, 8, 15, 20, 10, 22, 41, 17, 14, 19, 49, 13, 45, 4, 47, 37, 18, 6, 40, 1, 32, 46, 44, 42, 23, 21, 25]\n",
      "Iteration 1\n",
      "Best Route: [40, 45, 32, 14, 4, 43, 23, 15, 28, 33, 48, 5, 16, 24, 39, 0, 26, 11, 17, 38, 35, 10, 12, 13, 30, 8, 20, 2, 9, 3, 34, 27, 1, 7, 19, 29, 31, 47, 22, 18, 6, 49, 36, 37, 46, 44, 42, 41, 21, 25]\n",
      "Best Distance: 108.0\n",
      "\n",
      "Iteration 2\n",
      "Best Route: [7, 14, 32, 40, 5, 43, 23, 15, 28, 33, 48, 45, 16, 24, 39, 0, 26, 11, 17, 38, 35, 13, 12, 25, 30, 8, 20, 2, 9, 3, 34, 1, 19, 10, 4, 29, 31, 47, 22, 18, 6, 49, 36, 37, 46, 44, 42, 41, 21, 27]\n",
      "Best Distance: 84.0\n",
      "\n",
      "Iteration 3\n",
      "Best Route: [7, 14, 32, 35, 5, 43, 23, 15, 28, 33, 48, 45, 16, 24, 39, 0, 26, 11, 17, 38, 40, 13, 12, 25, 30, 8, 20, 2, 9, 3, 34, 1, 19, 37, 4, 29, 31, 47, 22, 18, 36, 49, 6, 10, 46, 44, 42, 41, 21, 27]\n",
      "Best Distance: 79.0\n",
      "\n",
      "Iteration 4\n",
      "Best Route: [7, 14, 32, 35, 5, 43, 23, 15, 28, 33, 48, 45, 16, 24, 39, 0, 26, 11, 17, 38, 40, 13, 12, 25, 30, 8, 20, 2, 9, 3, 34, 1, 46, 37, 4, 29, 31, 47, 22, 18, 36, 49, 6, 10, 19, 44, 42, 41, 21, 27]\n",
      "Best Distance: 77.0\n",
      "\n",
      "Final Best Route: [7, 14, 32, 35, 5, 43, 23, 15, 28, 33, 48, 45, 16, 24, 39, 0, 26, 11, 17, 38, 40, 13, 12, 25, 30, 8, 20, 2, 9, 3, 34, 1, 46, 37, 4, 29, 31, 47, 22, 18, 36, 49, 6, 10, 19, 44, 42, 41, 21, 27]\n",
      "Final Best Distance: 77.0\n"
     ]
    },
    {
     "data": {
      "image/png": "[encoded data removed]",
      "text/plain": [
       "<Figure size 640x480 with 1 Axes>"
      ]
     },
     "metadata": {},
     "output_type": "display_data"
    }
   ],
   "source": [
    "import random\n",
    "import matplotlib.pyplot as plt\n",
    "import numpy as np\n",
    "\n",
    "def calculate_distance(route, distances):\n",
    "    total_distance = 0\n",
    "    for i in range(len(route) - 1):\n",
    "        city1 = route[i]\n",
    "        city2 = route[i + 1]\n",
    "        total_distance += distances[city1][city2]\n",
    "    return total_distance\n",
    "\n",
    "def steepest_hill_ascent(distances, max_iterations=10):\n",
    "    num_cities = len(distances)\n",
    "    current_route = list(range(num_cities))\n",
    "    random.shuffle(current_route)\n",
    "    print(current_route)\n",
    "    best_route = current_route[:]\n",
    "    best_distance = calculate_distance(best_route, distances)\n",
    "\n",
    "    distances_history = [best_distance]\n",
    "\n",
    "    for iteration in range(max_iterations):\n",
    "        improved = False\n",
    "        for i in range(num_cities - 1):\n",
    "            for j in range(i + 1, num_cities):\n",
    "                new_route = current_route[:]\n",
    "                new_route[i], new_route[j] = new_route[j], new_route[i]\n",
    "                new_distance = calculate_distance(new_route, distances)\n",
    "                if new_distance < best_distance:\n",
    "                    current_route = new_route[:]\n",
    "                    best_distance = new_distance\n",
    "                    improved = True\n",
    "                    if best_distance < calculate_distance(best_route, distances):\n",
    "                        best_route = current_route[:]\n",
    "        if not improved:\n",
    "            break\n",
    "        distances_history.append(best_distance)\n",
    "\n",
    "        if iteration < max_iterations:\n",
    "            print(\"Iteration\", iteration + 1)\n",
    "            print(\"Best Route:\", best_route)\n",
    "            print(\"Best Distance:\", best_distance)\n",
    "            print()\n",
    "\n",
    "    return best_route, best_distance, distances_history\n",
    "\n",
    "# Load data\n",
    "distances_file = 'TSP_Matrix.txt'\n",
    "\n",
    "try:\n",
    "    distances = np.loadtxt(distances_file, delimiter=',')\n",
    "    best_route, best_distance, distances_history = steepest_hill_ascent(distances, max_iterations=10)\n",
    "    print(\"Final Best Route:\", best_route)\n",
    "    print(\"Final Best Distance:\", best_distance)\n",
    "\n",
    "    # Plot the distance history\n",
    "    plt.plot(distances_history)\n",
    "    plt.xlabel(\"Iteration\")\n",
    "    plt.ylabel(\"Distance\")\n",
    "    plt.show()\n",
    "\n",
    "except ValueError as e:\n",
    "    print(\"Error reading the distances matrix from the file:\", e)\n",
    "\n",
    "\n"
   ]
  },
  {
   "cell_type": "code",
   "execution_count": null,
   "metadata": {},
   "outputs": [],
   "source": []
  },
  {
   "cell_type": "markdown",
   "metadata": {},
   "source": []
  }
 ],
 "metadata": {
  "kernelspec": {
   "display_name": "Python 3",
   "language": "python",
   "name": "python3"
  },
  "language_info": {
   "codemirror_mode": {
    "name": "ipython",
    "version": 3
   },
   "file_extension": ".py",
   "mimetype": "text/x-python",
   "name": "python",
   "nbconvert_exporter": "python",
   "pygments_lexer": "ipython3",
   "version": "3.11.1"
  },
  "orig_nbformat": 4
 },
 "nbformat": 4,
 "nbformat_minor": 2
}
